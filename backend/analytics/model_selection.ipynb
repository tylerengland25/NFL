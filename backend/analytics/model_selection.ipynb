{
 "cells": [
  {
   "cell_type": "code",
   "execution_count": 48,
   "metadata": {},
   "outputs": [],
   "source": [
    "import sys\n",
    "import pandas as pd\n",
    "import numpy as np\n",
    "sys.path.append('c:\\\\Users\\\\tyler\\\\OneDrive\\\\Documents\\\\Python\\\\NFL')\n",
    "from backend.preprocess.preprocess import main as load_data\n",
    "from sklearn.model_selection import train_test_split\n",
    "from sklearn.pipeline import Pipeline\n",
    "from sklearn.preprocessing import StandardScaler\n",
    "from sklearn.neural_network import MLPClassifier\n",
    "from sklearn.metrics import accuracy_score\n",
    "import os\n",
    "from sklearn.model_selection import GridSearchCV, KFold, cross_val_score\n",
    "from sklearn.exceptions import DataConversionWarning, ConvergenceWarning\n",
    "import warnings\n",
    "warnings.filterwarnings(\"ignore\", category=DataConversionWarning)\n",
    "warnings.filterwarnings(\"ignore\", category=ConvergenceWarning)"
   ]
  },
  {
   "cell_type": "code",
   "execution_count": 49,
   "metadata": {},
   "outputs": [
    {
     "data": {
      "text/plain": [
       "'c:\\\\Users\\\\tyler\\\\OneDrive\\\\Documents\\\\Python\\\\NFL'"
      ]
     },
     "execution_count": 49,
     "metadata": {},
     "output_type": "execute_result"
    }
   ],
   "source": [
    "os.chdir('c:\\\\Users\\\\tyler\\\\OneDrive\\\\Documents\\\\Python\\\\NFL')\n",
    "os.getcwd()"
   ]
  },
  {
   "cell_type": "code",
   "execution_count": 50,
   "metadata": {},
   "outputs": [
    {
     "name": "stdout",
     "output_type": "stream",
     "text": [
      "Executing load_data ...\n",
      "\tDone: 4.8376s\n",
      "Executing preprocess ...\n",
      "\tDone: 2.1822s\n",
      "Executing load_target_data ...\n",
      "\tDone: 0.9124s\n",
      "Executing merge_x_y ...\n",
      "\tDone: 0.0490s\n"
     ]
    }
   ],
   "source": [
    "# Load data\n",
    "df = load_data()\n",
    "\n",
    "last_season = df[[index[0].year >= 2021 for index in df.index]]\n",
    "df = df[[index[0].year < 2021 for index in df.index]]\n",
    "X = df.drop(['y'], axis=1)\n",
    "y = df[['y']]\n",
    "\n",
    "# Split data\n",
    "X_train, X_test, y_train, y_test = train_test_split(X, y, test_size=.2, random_state=1)\n",
    "\n",
    "# Pipeline\n",
    "pipe = Pipeline(\n",
    "    [\n",
    "        ('scaler', StandardScaler()),\n",
    "        ('nn', MLPClassifier(random_state=1))\n",
    "    ]\n",
    ")\n"
   ]
  },
  {
   "cell_type": "code",
   "execution_count": 51,
   "metadata": {},
   "outputs": [],
   "source": [
    "parameters = {\n",
    "    'nn__hidden_layer_sizes': [\n",
    "        (100, ), (200, ), (300, ),\n",
    "        (100, 100), (200, 200), (300, 300), \n",
    "        (200, 100), (300, 100), (300, 200), (300, 200, 100), \n",
    "        (100, 100, 100), (200, 200, 200), (300, 300, 300), \n",
    "        (200, 100, 100), (200, 200, 100), (300, 200, 100), (300, 300, 200), (300, 300, 100), (300, 200, 200)\n",
    "    ],\n",
    "    'nn__activation': ['tanh'],\n",
    "    'nn__learning_rate': ['constant', 'invscaling', 'adaptive'],\n",
    "    'nn__learning_rate_init': [.1, .01, .001, .0001, .00001]\n",
    "}"
   ]
  },
  {
   "cell_type": "code",
   "execution_count": 52,
   "metadata": {},
   "outputs": [],
   "source": [
    "search = GridSearchCV(\n",
    "    pipe,\n",
    "    parameters,\n",
    "    scoring='accuracy',\n",
    "    n_jobs=-1,\n",
    "    cv=KFold(n_splits=5, shuffle=True, random_state=1)\n",
    ").fit(X_train, y_train)"
   ]
  },
  {
   "cell_type": "code",
   "execution_count": 57,
   "metadata": {},
   "outputs": [
    {
     "data": {
      "text/html": [
       "<div>\n",
       "<style scoped>\n",
       "    .dataframe tbody tr th:only-of-type {\n",
       "        vertical-align: middle;\n",
       "    }\n",
       "\n",
       "    .dataframe tbody tr th {\n",
       "        vertical-align: top;\n",
       "    }\n",
       "\n",
       "    .dataframe thead th {\n",
       "        text-align: right;\n",
       "    }\n",
       "</style>\n",
       "<table border=\"1\" class=\"dataframe\">\n",
       "  <thead>\n",
       "    <tr style=\"text-align: right;\">\n",
       "      <th></th>\n",
       "      <th></th>\n",
       "      <th></th>\n",
       "      <th></th>\n",
       "      <th>mean_test_score</th>\n",
       "      <th>mean_test_score</th>\n",
       "      <th>rank_test_score</th>\n",
       "    </tr>\n",
       "    <tr>\n",
       "      <th>param_nn__activation</th>\n",
       "      <th>param_nn__hidden_layer_sizes</th>\n",
       "      <th>param_nn__learning_rate</th>\n",
       "      <th>param_nn__learning_rate_init</th>\n",
       "      <th></th>\n",
       "      <th></th>\n",
       "      <th></th>\n",
       "    </tr>\n",
       "  </thead>\n",
       "  <tbody>\n",
       "    <tr>\n",
       "      <th rowspan=\"11\" valign=\"top\">tanh</th>\n",
       "      <th rowspan=\"3\" valign=\"top\">(200, 200, 100)</th>\n",
       "      <th>constant</th>\n",
       "      <th>0.00001</th>\n",
       "      <td>0.627128</td>\n",
       "      <td>0.627128</td>\n",
       "      <td>1</td>\n",
       "    </tr>\n",
       "    <tr>\n",
       "      <th>invscaling</th>\n",
       "      <th>0.00001</th>\n",
       "      <td>0.627128</td>\n",
       "      <td>0.627128</td>\n",
       "      <td>1</td>\n",
       "    </tr>\n",
       "    <tr>\n",
       "      <th>adaptive</th>\n",
       "      <th>0.00001</th>\n",
       "      <td>0.627128</td>\n",
       "      <td>0.627128</td>\n",
       "      <td>1</td>\n",
       "    </tr>\n",
       "    <tr>\n",
       "      <th rowspan=\"2\" valign=\"top\">(100, 100)</th>\n",
       "      <th>constant</th>\n",
       "      <th>0.00001</th>\n",
       "      <td>0.624468</td>\n",
       "      <td>0.624468</td>\n",
       "      <td>4</td>\n",
       "    </tr>\n",
       "    <tr>\n",
       "      <th>invscaling</th>\n",
       "      <th>0.00001</th>\n",
       "      <td>0.624468</td>\n",
       "      <td>0.624468</td>\n",
       "      <td>4</td>\n",
       "    </tr>\n",
       "    <tr>\n",
       "      <th>...</th>\n",
       "      <th>...</th>\n",
       "      <th>...</th>\n",
       "      <td>...</td>\n",
       "      <td>...</td>\n",
       "      <td>...</td>\n",
       "    </tr>\n",
       "    <tr>\n",
       "      <th rowspan=\"2\" valign=\"top\">(300,)</th>\n",
       "      <th>constant</th>\n",
       "      <th>0.10000</th>\n",
       "      <td>0.559043</td>\n",
       "      <td>0.559043</td>\n",
       "      <td>280</td>\n",
       "    </tr>\n",
       "    <tr>\n",
       "      <th>invscaling</th>\n",
       "      <th>0.10000</th>\n",
       "      <td>0.559043</td>\n",
       "      <td>0.559043</td>\n",
       "      <td>280</td>\n",
       "    </tr>\n",
       "    <tr>\n",
       "      <th rowspan=\"3\" valign=\"top\">(300, 200, 200)</th>\n",
       "      <th>adaptive</th>\n",
       "      <th>0.01000</th>\n",
       "      <td>0.555851</td>\n",
       "      <td>0.555851</td>\n",
       "      <td>283</td>\n",
       "    </tr>\n",
       "    <tr>\n",
       "      <th>constant</th>\n",
       "      <th>0.01000</th>\n",
       "      <td>0.555851</td>\n",
       "      <td>0.555851</td>\n",
       "      <td>283</td>\n",
       "    </tr>\n",
       "    <tr>\n",
       "      <th>invscaling</th>\n",
       "      <th>0.01000</th>\n",
       "      <td>0.555851</td>\n",
       "      <td>0.555851</td>\n",
       "      <td>283</td>\n",
       "    </tr>\n",
       "  </tbody>\n",
       "</table>\n",
       "<p>285 rows × 3 columns</p>\n",
       "</div>"
      ],
      "text/plain": [
       "                                                                                                        mean_test_score  \\\n",
       "param_nn__activation param_nn__hidden_layer_sizes param_nn__learning_rate param_nn__learning_rate_init                    \n",
       "tanh                 (200, 200, 100)              constant                0.00001                              0.627128   \n",
       "                                                  invscaling              0.00001                              0.627128   \n",
       "                                                  adaptive                0.00001                              0.627128   \n",
       "                     (100, 100)                   constant                0.00001                              0.624468   \n",
       "                                                  invscaling              0.00001                              0.624468   \n",
       "...                                                                                                                 ...   \n",
       "                     (300,)                       constant                0.10000                              0.559043   \n",
       "                                                  invscaling              0.10000                              0.559043   \n",
       "                     (300, 200, 200)              adaptive                0.01000                              0.555851   \n",
       "                                                  constant                0.01000                              0.555851   \n",
       "                                                  invscaling              0.01000                              0.555851   \n",
       "\n",
       "                                                                                                        mean_test_score  \\\n",
       "param_nn__activation param_nn__hidden_layer_sizes param_nn__learning_rate param_nn__learning_rate_init                    \n",
       "tanh                 (200, 200, 100)              constant                0.00001                              0.627128   \n",
       "                                                  invscaling              0.00001                              0.627128   \n",
       "                                                  adaptive                0.00001                              0.627128   \n",
       "                     (100, 100)                   constant                0.00001                              0.624468   \n",
       "                                                  invscaling              0.00001                              0.624468   \n",
       "...                                                                                                                 ...   \n",
       "                     (300,)                       constant                0.10000                              0.559043   \n",
       "                                                  invscaling              0.10000                              0.559043   \n",
       "                     (300, 200, 200)              adaptive                0.01000                              0.555851   \n",
       "                                                  constant                0.01000                              0.555851   \n",
       "                                                  invscaling              0.01000                              0.555851   \n",
       "\n",
       "                                                                                                        rank_test_score  \n",
       "param_nn__activation param_nn__hidden_layer_sizes param_nn__learning_rate param_nn__learning_rate_init                   \n",
       "tanh                 (200, 200, 100)              constant                0.00001                                     1  \n",
       "                                                  invscaling              0.00001                                     1  \n",
       "                                                  adaptive                0.00001                                     1  \n",
       "                     (100, 100)                   constant                0.00001                                     4  \n",
       "                                                  invscaling              0.00001                                     4  \n",
       "...                                                                                                                 ...  \n",
       "                     (300,)                       constant                0.10000                                   280  \n",
       "                                                  invscaling              0.10000                                   280  \n",
       "                     (300, 200, 200)              adaptive                0.01000                                   283  \n",
       "                                                  constant                0.01000                                   283  \n",
       "                                                  invscaling              0.01000                                   283  \n",
       "\n",
       "[285 rows x 3 columns]"
      ]
     },
     "execution_count": 57,
     "metadata": {},
     "output_type": "execute_result"
    }
   ],
   "source": [
    "results_df = pd.DataFrame(search.cv_results_)\n",
    "results_df.sort_values(by=['rank_test_score'], inplace=True)\n",
    "results_df.set_index(['param_nn__activation', 'param_nn__hidden_layer_sizes', 'param_nn__learning_rate', 'param_nn__learning_rate_init'], inplace=True)\n",
    "results_df[['mean_test_score', 'mean_test_score', 'rank_test_score']]"
   ]
  },
  {
   "cell_type": "code",
   "execution_count": 54,
   "metadata": {},
   "outputs": [
    {
     "data": {
      "text/plain": [
       "Pipeline(steps=[('scaler', StandardScaler()),\n",
       "                ('nn',\n",
       "                 MLPClassifier(activation='tanh',\n",
       "                               hidden_layer_sizes=(200, 200, 100),\n",
       "                               learning_rate_init=1e-05, random_state=1))])"
      ]
     },
     "execution_count": 54,
     "metadata": {},
     "output_type": "execute_result"
    }
   ],
   "source": [
    "search.best_estimator_"
   ]
  },
  {
   "cell_type": "code",
   "execution_count": 55,
   "metadata": {},
   "outputs": [
    {
     "name": "stdout",
     "output_type": "stream",
     "text": [
      "Mean: 0.6271276595744681 Std: 0.018985710954866737\n",
      "0.6148936170212767\n"
     ]
    }
   ],
   "source": [
    "scores = cross_val_score(\n",
    "    search.best_estimator_, \n",
    "    X_train, y_train, \n",
    "    cv=KFold(n_splits=5, shuffle=True, random_state=1)\n",
    ")\n",
    "print(f'Mean: {scores.mean()} Std: {scores.std()}')\n",
    "print(search.best_estimator_.score(X_test, y_test))"
   ]
  }
 ],
 "metadata": {
  "kernelspec": {
   "display_name": "Python 3.8.2 64-bit",
   "language": "python",
   "name": "python3"
  },
  "language_info": {
   "codemirror_mode": {
    "name": "ipython",
    "version": 3
   },
   "file_extension": ".py",
   "mimetype": "text/x-python",
   "name": "python",
   "nbconvert_exporter": "python",
   "pygments_lexer": "ipython3",
   "version": "3.8.2"
  },
  "orig_nbformat": 4,
  "vscode": {
   "interpreter": {
    "hash": "9650cb4e16cdd4a8e8e2d128bf38d875813998db22a3c986335f89e0cb4d7bb2"
   }
  }
 },
 "nbformat": 4,
 "nbformat_minor": 2
}
