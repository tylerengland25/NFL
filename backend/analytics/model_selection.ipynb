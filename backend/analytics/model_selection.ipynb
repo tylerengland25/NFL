{
 "cells": [
  {
   "cell_type": "code",
   "execution_count": 11,
   "metadata": {},
   "outputs": [],
   "source": [
    "import sys\n",
    "import pandas as pd\n",
    "import numpy as np\n",
    "sys.path.append('c:\\\\Users\\\\tyler\\\\OneDrive\\\\Documents\\\\Python\\\\NFL')\n",
    "from backend.preprocess.preprocess import main as load_data\n",
    "from sklearn.model_selection import train_test_split\n",
    "from sklearn.pipeline import Pipeline\n",
    "from sklearn.preprocessing import StandardScaler\n",
    "from sklearn.neural_network import MLPClassifier\n",
    "from sklearn.metrics import accuracy_score\n",
    "import os\n",
    "from sklearn.experimental import enable_halving_search_cv\n",
    "from sklearn.model_selection import HalvingRandomSearchCV"
   ]
  },
  {
   "cell_type": "code",
   "execution_count": 8,
   "metadata": {},
   "outputs": [
    {
     "data": {
      "text/plain": [
       "'c:\\\\Users\\\\tyler\\\\OneDrive\\\\Documents\\\\Python\\\\NFL'"
      ]
     },
     "execution_count": 8,
     "metadata": {},
     "output_type": "execute_result"
    }
   ],
   "source": [
    "os.chdir('c:\\\\Users\\\\tyler\\\\OneDrive\\\\Documents\\\\Python\\\\NFL')\n",
    "os.getcwd()"
   ]
  },
  {
   "cell_type": "code",
   "execution_count": 12,
   "metadata": {},
   "outputs": [
    {
     "name": "stdout",
     "output_type": "stream",
     "text": [
      "Executing load_data ...\n",
      "\tDone: 3.8640s\n",
      "Executing preprocess ...\n",
      "\tDone: 1.8090s\n",
      "Executing load_target_data ...\n",
      "\tDone: 0.7347s\n",
      "Executing merge_x_y ...\n",
      "\tDone: 0.0365s\n"
     ]
    }
   ],
   "source": [
    "# Load data\n",
    "df = load_data()\n",
    "\n",
    "last_season = df[[index[0].year >= 2021 for index in df.index]]\n",
    "df = df[[index[0].year < 2021 for index in df.index]]\n",
    "X = df.drop(['y'], axis=1)\n",
    "y = df[['y']]\n",
    "\n",
    "# Split data\n",
    "X_train, X_test, y_train, y_test = train_test_split(X, y, test_size=.2, random_state=1)\n",
    "\n",
    "# Pipeline\n",
    "pipe = Pipeline(\n",
    "    [\n",
    "        ('scaler', StandardScaler()),\n",
    "        ('nn', MLPClassifier(random_state=1, activation='identity'))\n",
    "    ]\n",
    ")\n"
   ]
  },
  {
   "cell_type": "code",
   "execution_count": null,
   "metadata": {},
   "outputs": [],
   "source": [
    "parameters = {\n",
    "    'hidden_layers': [\n",
    "        (100, ), (200, ), (300, ), (400, ), (500, ),\n",
    "        (100, 100, ), (200, 100, ), (200, 200, ), (300, 100, ), (300, 200, ), (300, 300, ),\n",
    "        (100, 100, 100, ), (200, 100, 100, ), (200, 200, 100, ), (200, 200, 200, ),\n",
    "        (300, 100, 100, ), (300, 200, 100), (300, 200, 200), (300, 300, 200), (300, 300, 300, )],\n",
    "    'solver': ['sgd', 'adam'],\n",
    "    'learning_rate': ['constant', 'adaptive'],\n",
    "    'learning_rate_init': [0.001, 0.01, .1]\n",
    "\n",
    "}"
   ]
  }
 ],
 "metadata": {
  "kernelspec": {
   "display_name": "Python 3.8.2 64-bit",
   "language": "python",
   "name": "python3"
  },
  "language_info": {
   "codemirror_mode": {
    "name": "ipython",
    "version": 3
   },
   "file_extension": ".py",
   "mimetype": "text/x-python",
   "name": "python",
   "nbconvert_exporter": "python",
   "pygments_lexer": "ipython3",
   "version": "3.8.2"
  },
  "orig_nbformat": 4,
  "vscode": {
   "interpreter": {
    "hash": "9650cb4e16cdd4a8e8e2d128bf38d875813998db22a3c986335f89e0cb4d7bb2"
   }
  }
 },
 "nbformat": 4,
 "nbformat_minor": 2
}
