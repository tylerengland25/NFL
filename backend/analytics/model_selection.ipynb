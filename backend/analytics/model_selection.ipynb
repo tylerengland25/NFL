{
 "cells": [
  {
   "cell_type": "code",
   "execution_count": 40,
   "metadata": {},
   "outputs": [],
   "source": [
    "import sys\n",
    "import pandas as pd\n",
    "import numpy as np\n",
    "sys.path.append('c:\\\\Users\\\\tyler\\\\OneDrive\\\\Documents\\\\Python\\\\NFL')\n",
    "from backend.preprocess.preprocess import main as load_data\n",
    "from sklearn.model_selection import train_test_split\n",
    "from sklearn.pipeline import Pipeline\n",
    "from sklearn.preprocessing import StandardScaler\n",
    "from sklearn.neural_network import MLPClassifier\n",
    "from sklearn.metrics import accuracy_score\n",
    "import os\n",
    "from sklearn.model_selection import GridSearchCV, KFold, cross_val_score\n",
    "from sklearn.exceptions import DataConversionWarning, ConvergenceWarning\n",
    "import warnings\n",
    "warnings.filterwarnings(\"ignore\", category=DataConversionWarning)\n",
    "warnings.filterwarnings(\"ignore\", category=ConvergenceWarning)"
   ]
  },
  {
   "cell_type": "code",
   "execution_count": 41,
   "metadata": {},
   "outputs": [
    {
     "data": {
      "text/plain": [
       "'c:\\\\Users\\\\tyler\\\\OneDrive\\\\Documents\\\\Python\\\\NFL'"
      ]
     },
     "execution_count": 41,
     "metadata": {},
     "output_type": "execute_result"
    }
   ],
   "source": [
    "os.chdir('c:\\\\Users\\\\tyler\\\\OneDrive\\\\Documents\\\\Python\\\\NFL')\n",
    "os.getcwd()"
   ]
  },
  {
   "cell_type": "code",
   "execution_count": 42,
   "metadata": {},
   "outputs": [
    {
     "name": "stdout",
     "output_type": "stream",
     "text": [
      "Executing load_data ...\n",
      "\tDone: 4.1897s\n",
      "Executing preprocess ...\n",
      "\tDone: 2.0799s\n",
      "Executing load_target_data ...\n"
     ]
    },
    {
     "name": "stderr",
     "output_type": "stream",
     "text": [
      "c:\\Python38\\lib\\site-packages\\pandas\\core\\window\\rolling.py:2010: FutureWarning: min_periods=None will default to the size of window consistent with other methods in a future version. Specify min_periods=0 instead.\n",
      "  warnings.warn(\n"
     ]
    },
    {
     "name": "stdout",
     "output_type": "stream",
     "text": [
      "\tDone: 0.8660s\n",
      "Executing merge_x_y ...\n",
      "\tDone: 0.0360s\n"
     ]
    }
   ],
   "source": [
    "# Load data\n",
    "df = load_data()\n",
    "\n",
    "last_season = df[[index[0].year >= 2021 for index in df.index]]\n",
    "df = df[[index[0].year < 2021 for index in df.index]]\n",
    "X = df.drop(['y'], axis=1)\n",
    "y = df[['y']]\n",
    "\n",
    "# Split data\n",
    "X_train, X_test, y_train, y_test = train_test_split(X, y, test_size=.2, random_state=1)\n",
    "\n",
    "# Pipeline\n",
    "pipe = Pipeline(\n",
    "    [\n",
    "        ('scaler', StandardScaler()),\n",
    "        ('nn', MLPClassifier(random_state=1, activation='identity'))\n",
    "    ]\n",
    ")\n"
   ]
  },
  {
   "cell_type": "code",
   "execution_count": 43,
   "metadata": {},
   "outputs": [],
   "source": [
    "parameters = {\n",
    "    'nn__hidden_layer_sizes': [\n",
    "        (100), (400), (500), \n",
    "        (100, 100, 100), (400, 400), (500, 500)\n",
    "    ],\n",
    "    'nn__activation': ['identity']\n",
    "}"
   ]
  },
  {
   "cell_type": "code",
   "execution_count": 44,
   "metadata": {},
   "outputs": [],
   "source": [
    "search = GridSearchCV(\n",
    "    pipe,\n",
    "    parameters,\n",
    "    scoring='accuracy',\n",
    "    n_jobs=-1,\n",
    "    cv=KFold(n_splits=5, shuffle=True, random_state=1)\n",
    ").fit(X_train, y_train)"
   ]
  },
  {
   "cell_type": "code",
   "execution_count": 45,
   "metadata": {},
   "outputs": [
    {
     "data": {
      "text/html": [
       "<div>\n",
       "<style scoped>\n",
       "    .dataframe tbody tr th:only-of-type {\n",
       "        vertical-align: middle;\n",
       "    }\n",
       "\n",
       "    .dataframe tbody tr th {\n",
       "        vertical-align: top;\n",
       "    }\n",
       "\n",
       "    .dataframe thead th {\n",
       "        text-align: right;\n",
       "    }\n",
       "</style>\n",
       "<table border=\"1\" class=\"dataframe\">\n",
       "  <thead>\n",
       "    <tr style=\"text-align: right;\">\n",
       "      <th></th>\n",
       "      <th></th>\n",
       "      <th>mean_test_score</th>\n",
       "      <th>mean_test_score</th>\n",
       "      <th>rank_test_score</th>\n",
       "    </tr>\n",
       "    <tr>\n",
       "      <th>param_nn__activation</th>\n",
       "      <th>param_nn__hidden_layer_sizes</th>\n",
       "      <th></th>\n",
       "      <th></th>\n",
       "      <th></th>\n",
       "    </tr>\n",
       "  </thead>\n",
       "  <tbody>\n",
       "    <tr>\n",
       "      <th rowspan=\"6\" valign=\"top\">identity</th>\n",
       "      <th>(500, 500)</th>\n",
       "      <td>0.614894</td>\n",
       "      <td>0.614894</td>\n",
       "      <td>1</td>\n",
       "    </tr>\n",
       "    <tr>\n",
       "      <th>100</th>\n",
       "      <td>0.614362</td>\n",
       "      <td>0.614362</td>\n",
       "      <td>2</td>\n",
       "    </tr>\n",
       "    <tr>\n",
       "      <th>500</th>\n",
       "      <td>0.605851</td>\n",
       "      <td>0.605851</td>\n",
       "      <td>3</td>\n",
       "    </tr>\n",
       "    <tr>\n",
       "      <th>(100, 100, 100)</th>\n",
       "      <td>0.605319</td>\n",
       "      <td>0.605319</td>\n",
       "      <td>4</td>\n",
       "    </tr>\n",
       "    <tr>\n",
       "      <th>(400, 400)</th>\n",
       "      <td>0.604787</td>\n",
       "      <td>0.604787</td>\n",
       "      <td>5</td>\n",
       "    </tr>\n",
       "    <tr>\n",
       "      <th>400</th>\n",
       "      <td>0.600000</td>\n",
       "      <td>0.600000</td>\n",
       "      <td>6</td>\n",
       "    </tr>\n",
       "  </tbody>\n",
       "</table>\n",
       "</div>"
      ],
      "text/plain": [
       "                                                   mean_test_score  \\\n",
       "param_nn__activation param_nn__hidden_layer_sizes                    \n",
       "identity             (500, 500)                           0.614894   \n",
       "                     100                                  0.614362   \n",
       "                     500                                  0.605851   \n",
       "                     (100, 100, 100)                      0.605319   \n",
       "                     (400, 400)                           0.604787   \n",
       "                     400                                  0.600000   \n",
       "\n",
       "                                                   mean_test_score  \\\n",
       "param_nn__activation param_nn__hidden_layer_sizes                    \n",
       "identity             (500, 500)                           0.614894   \n",
       "                     100                                  0.614362   \n",
       "                     500                                  0.605851   \n",
       "                     (100, 100, 100)                      0.605319   \n",
       "                     (400, 400)                           0.604787   \n",
       "                     400                                  0.600000   \n",
       "\n",
       "                                                   rank_test_score  \n",
       "param_nn__activation param_nn__hidden_layer_sizes                   \n",
       "identity             (500, 500)                                  1  \n",
       "                     100                                         2  \n",
       "                     500                                         3  \n",
       "                     (100, 100, 100)                             4  \n",
       "                     (400, 400)                                  5  \n",
       "                     400                                         6  "
      ]
     },
     "execution_count": 45,
     "metadata": {},
     "output_type": "execute_result"
    }
   ],
   "source": [
    "results_df = pd.DataFrame(search.cv_results_)\n",
    "results_df.sort_values(by=['rank_test_score'], inplace=True)\n",
    "results_df.set_index(['param_nn__activation', 'param_nn__hidden_layer_sizes'], inplace=True)\n",
    "results_df[['mean_test_score', 'mean_test_score', 'rank_test_score']]"
   ]
  },
  {
   "cell_type": "code",
   "execution_count": 46,
   "metadata": {},
   "outputs": [
    {
     "data": {
      "text/plain": [
       "Pipeline(steps=[('scaler', StandardScaler()),\n",
       "                ('nn',\n",
       "                 MLPClassifier(activation='identity',\n",
       "                               hidden_layer_sizes=(500, 500),\n",
       "                               random_state=1))])"
      ]
     },
     "execution_count": 46,
     "metadata": {},
     "output_type": "execute_result"
    }
   ],
   "source": [
    "search.best_estimator_"
   ]
  },
  {
   "cell_type": "code",
   "execution_count": 47,
   "metadata": {},
   "outputs": [
    {
     "name": "stdout",
     "output_type": "stream",
     "text": [
      "Mean: 0.6148936170212765 Std: 0.003908760227845493\n",
      "0.6106382978723405\n"
     ]
    }
   ],
   "source": [
    "scores = cross_val_score(\n",
    "    search.best_estimator_, \n",
    "    X_train, y_train, \n",
    "    cv=KFold(n_splits=5, shuffle=True, random_state=1)\n",
    ")\n",
    "print(f'Mean: {scores.mean()} Std: {scores.std()}')\n",
    "print(search.best_estimator_.score(X_test, y_test))"
   ]
  }
 ],
 "metadata": {
  "kernelspec": {
   "display_name": "Python 3.8.2 64-bit",
   "language": "python",
   "name": "python3"
  },
  "language_info": {
   "codemirror_mode": {
    "name": "ipython",
    "version": 3
   },
   "file_extension": ".py",
   "mimetype": "text/x-python",
   "name": "python",
   "nbconvert_exporter": "python",
   "pygments_lexer": "ipython3",
   "version": "3.8.2"
  },
  "orig_nbformat": 4,
  "vscode": {
   "interpreter": {
    "hash": "9650cb4e16cdd4a8e8e2d128bf38d875813998db22a3c986335f89e0cb4d7bb2"
   }
  }
 },
 "nbformat": 4,
 "nbformat_minor": 2
}
