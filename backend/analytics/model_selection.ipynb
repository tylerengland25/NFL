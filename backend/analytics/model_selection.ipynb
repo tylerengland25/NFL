{
 "cells": [
  {
   "cell_type": "code",
   "execution_count": 24,
   "metadata": {},
   "outputs": [],
   "source": [
    "import sys\n",
    "import pandas as pd\n",
    "import numpy as np\n",
    "sys.path.append('c:\\\\Users\\\\tyler\\\\OneDrive\\\\Documents\\\\Python\\\\NFL')\n",
    "from backend.preprocess.preprocess import main as load_data\n",
    "from sklearn.model_selection import train_test_split\n",
    "from sklearn.pipeline import Pipeline\n",
    "from sklearn.preprocessing import StandardScaler\n",
    "from sklearn.neural_network import MLPClassifier\n",
    "from sklearn.metrics import accuracy_score\n",
    "import os\n",
    "from sklearn.model_selection import GridSearchCV, KFold, cross_val_score\n",
    "from sklearn.exceptions import DataConversionWarning, ConvergenceWarning\n",
    "import warnings\n",
    "warnings.filterwarnings(\"ignore\", category=DataConversionWarning)\n",
    "warnings.filterwarnings(\"ignore\", category=ConvergenceWarning)"
   ]
  },
  {
   "cell_type": "code",
   "execution_count": 25,
   "metadata": {},
   "outputs": [
    {
     "data": {
      "text/plain": [
       "'c:\\\\Users\\\\tyler\\\\OneDrive\\\\Documents\\\\Python\\\\NFL'"
      ]
     },
     "execution_count": 25,
     "metadata": {},
     "output_type": "execute_result"
    }
   ],
   "source": [
    "os.chdir('c:\\\\Users\\\\tyler\\\\OneDrive\\\\Documents\\\\Python\\\\NFL')\n",
    "os.getcwd()"
   ]
  },
  {
   "cell_type": "code",
   "execution_count": 26,
   "metadata": {},
   "outputs": [
    {
     "name": "stdout",
     "output_type": "stream",
     "text": [
      "Executing load_data ...\n",
      "\tDone: 5.2006s\n",
      "Executing preprocess ...\n",
      "\tDone: 2.9980s\n",
      "Executing load_target_data ...\n"
     ]
    },
    {
     "name": "stderr",
     "output_type": "stream",
     "text": [
      "c:\\Python38\\lib\\site-packages\\pandas\\core\\window\\rolling.py:2010: FutureWarning: min_periods=None will default to the size of window consistent with other methods in a future version. Specify min_periods=0 instead.\n",
      "  warnings.warn(\n"
     ]
    },
    {
     "name": "stdout",
     "output_type": "stream",
     "text": [
      "\tDone: 1.6280s\n",
      "Executing merge_x_y ...\n",
      "\tDone: 0.0600s\n"
     ]
    }
   ],
   "source": [
    "# Load data\n",
    "df = load_data()\n",
    "\n",
    "last_season = df[[index[0].year >= 2021 for index in df.index]]\n",
    "df = df[[index[0].year < 2021 for index in df.index]]\n",
    "X = df.drop(['y'], axis=1)\n",
    "y = df[['y']]\n",
    "\n",
    "# Split data\n",
    "X_train, X_test, y_train, y_test = train_test_split(X, y, test_size=.2, random_state=1)\n",
    "\n",
    "# Pipeline\n",
    "pipe = Pipeline(\n",
    "    [\n",
    "        ('scaler', StandardScaler()),\n",
    "        ('nn', MLPClassifier(random_state=1, activation='identity'))\n",
    "    ]\n",
    ")\n"
   ]
  },
  {
   "cell_type": "code",
   "execution_count": 27,
   "metadata": {},
   "outputs": [],
   "source": [
    "parameters = {\n",
    "    'nn__hidden_layer_sizes': [\n",
    "        (600, 600), (600, 600, 600),\n",
    "        (500, 500, 500)\n",
    "    ],\n",
    "    'nn__activation': ['identity']\n",
    "}"
   ]
  },
  {
   "cell_type": "code",
   "execution_count": 28,
   "metadata": {},
   "outputs": [],
   "source": [
    "search = GridSearchCV(\n",
    "    pipe,\n",
    "    parameters,\n",
    "    scoring='accuracy',\n",
    "    n_jobs=-1,\n",
    "    cv=KFold(n_splits=5, shuffle=True, random_state=1)\n",
    ").fit(X_train, y_train)"
   ]
  },
  {
   "cell_type": "code",
   "execution_count": 29,
   "metadata": {},
   "outputs": [
    {
     "data": {
      "text/html": [
       "<div>\n",
       "<style scoped>\n",
       "    .dataframe tbody tr th:only-of-type {\n",
       "        vertical-align: middle;\n",
       "    }\n",
       "\n",
       "    .dataframe tbody tr th {\n",
       "        vertical-align: top;\n",
       "    }\n",
       "\n",
       "    .dataframe thead th {\n",
       "        text-align: right;\n",
       "    }\n",
       "</style>\n",
       "<table border=\"1\" class=\"dataframe\">\n",
       "  <thead>\n",
       "    <tr style=\"text-align: right;\">\n",
       "      <th></th>\n",
       "      <th></th>\n",
       "      <th>mean_test_score</th>\n",
       "      <th>mean_test_score</th>\n",
       "      <th>rank_test_score</th>\n",
       "    </tr>\n",
       "    <tr>\n",
       "      <th>param_nn__activation</th>\n",
       "      <th>param_nn__hidden_layer_sizes</th>\n",
       "      <th></th>\n",
       "      <th></th>\n",
       "      <th></th>\n",
       "    </tr>\n",
       "  </thead>\n",
       "  <tbody>\n",
       "    <tr>\n",
       "      <th rowspan=\"3\" valign=\"top\">identity</th>\n",
       "      <th>(600, 600)</th>\n",
       "      <td>0.615957</td>\n",
       "      <td>0.615957</td>\n",
       "      <td>1</td>\n",
       "    </tr>\n",
       "    <tr>\n",
       "      <th>(600, 600, 600)</th>\n",
       "      <td>0.611170</td>\n",
       "      <td>0.611170</td>\n",
       "      <td>2</td>\n",
       "    </tr>\n",
       "    <tr>\n",
       "      <th>(500, 500, 500)</th>\n",
       "      <td>0.608511</td>\n",
       "      <td>0.608511</td>\n",
       "      <td>3</td>\n",
       "    </tr>\n",
       "  </tbody>\n",
       "</table>\n",
       "</div>"
      ],
      "text/plain": [
       "                                                   mean_test_score  \\\n",
       "param_nn__activation param_nn__hidden_layer_sizes                    \n",
       "identity             (600, 600)                           0.615957   \n",
       "                     (600, 600, 600)                      0.611170   \n",
       "                     (500, 500, 500)                      0.608511   \n",
       "\n",
       "                                                   mean_test_score  \\\n",
       "param_nn__activation param_nn__hidden_layer_sizes                    \n",
       "identity             (600, 600)                           0.615957   \n",
       "                     (600, 600, 600)                      0.611170   \n",
       "                     (500, 500, 500)                      0.608511   \n",
       "\n",
       "                                                   rank_test_score  \n",
       "param_nn__activation param_nn__hidden_layer_sizes                   \n",
       "identity             (600, 600)                                  1  \n",
       "                     (600, 600, 600)                             2  \n",
       "                     (500, 500, 500)                             3  "
      ]
     },
     "execution_count": 29,
     "metadata": {},
     "output_type": "execute_result"
    }
   ],
   "source": [
    "results_df = pd.DataFrame(search.cv_results_)\n",
    "results_df.sort_values(by=['rank_test_score'], inplace=True)\n",
    "results_df.set_index(['param_nn__activation', 'param_nn__hidden_layer_sizes'], inplace=True)\n",
    "results_df[['mean_test_score', 'mean_test_score', 'rank_test_score']]"
   ]
  },
  {
   "cell_type": "code",
   "execution_count": 30,
   "metadata": {},
   "outputs": [
    {
     "data": {
      "text/plain": [
       "Pipeline(steps=[('scaler', StandardScaler()),\n",
       "                ('nn',\n",
       "                 MLPClassifier(activation='identity',\n",
       "                               hidden_layer_sizes=(600, 600),\n",
       "                               random_state=1))])"
      ]
     },
     "execution_count": 30,
     "metadata": {},
     "output_type": "execute_result"
    }
   ],
   "source": [
    "search.best_estimator_"
   ]
  },
  {
   "cell_type": "code",
   "execution_count": 31,
   "metadata": {},
   "outputs": [
    {
     "name": "stderr",
     "output_type": "stream",
     "text": [
      "c:\\Python38\\lib\\site-packages\\sklearn\\neural_network\\_multilayer_perceptron.py:699: UserWarning: Training interrupted by user.\n",
      "  warnings.warn(\"Training interrupted by user.\")\n"
     ]
    },
    {
     "name": "stdout",
     "output_type": "stream",
     "text": [
      "Mean: 0.6095744680851064 Std: 0.003101570156832597\n",
      "0.6276595744680851\n"
     ]
    },
    {
     "name": "stderr",
     "output_type": "stream",
     "text": [
      "c:\\Python38\\lib\\site-packages\\sklearn\\neural_network\\_multilayer_perceptron.py:699: UserWarning: Training interrupted by user.\n",
      "  warnings.warn(\"Training interrupted by user.\")\n"
     ]
    }
   ],
   "source": [
    "scores = cross_val_score(\n",
    "    search.best_estimator_, \n",
    "    X_train, y_train, \n",
    "    cv=KFold(n_splits=5, shuffle=True, random_state=1)\n",
    ")\n",
    "print(f'Mean: {scores.mean()} Std: {scores.std()}')\n",
    "print(search.best_estimator_.score(X_test, y_test))"
   ]
  }
 ],
 "metadata": {
  "kernelspec": {
   "display_name": "Python 3.8.2 64-bit",
   "language": "python",
   "name": "python3"
  },
  "language_info": {
   "codemirror_mode": {
    "name": "ipython",
    "version": 3
   },
   "file_extension": ".py",
   "mimetype": "text/x-python",
   "name": "python",
   "nbconvert_exporter": "python",
   "pygments_lexer": "ipython3",
   "version": "3.8.2"
  },
  "orig_nbformat": 4,
  "vscode": {
   "interpreter": {
    "hash": "9650cb4e16cdd4a8e8e2d128bf38d875813998db22a3c986335f89e0cb4d7bb2"
   }
  }
 },
 "nbformat": 4,
 "nbformat_minor": 2
}
