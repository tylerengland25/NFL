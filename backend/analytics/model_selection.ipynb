{
 "cells": [
  {
   "cell_type": "code",
   "execution_count": 53,
   "metadata": {},
   "outputs": [],
   "source": [
    "import sys\n",
    "import pandas as pd\n",
    "import numpy as np\n",
    "sys.path.append('c:\\\\Users\\\\tyler\\\\OneDrive\\\\Documents\\\\Python\\\\NFL')\n",
    "from backend.preprocess.preprocess import main as load_data\n",
    "from sklearn.model_selection import train_test_split\n",
    "from sklearn.pipeline import Pipeline\n",
    "from sklearn.preprocessing import StandardScaler\n",
    "from sklearn.neural_network import MLPClassifier\n",
    "from sklearn.metrics import accuracy_score\n",
    "import os\n",
    "from sklearn.model_selection import GridSearchCV, KFold, cross_val_score\n",
    "from sklearn.exceptions import DataConversionWarning, ConvergenceWarning\n",
    "import warnings\n",
    "warnings.filterwarnings(\"ignore\", category=DataConversionWarning)\n",
    "warnings.filterwarnings(\"ignore\", category=ConvergenceWarning)"
   ]
  },
  {
   "cell_type": "code",
   "execution_count": 54,
   "metadata": {},
   "outputs": [
    {
     "data": {
      "text/plain": [
       "'c:\\\\Users\\\\tyler\\\\OneDrive\\\\Documents\\\\Python\\\\NFL'"
      ]
     },
     "execution_count": 54,
     "metadata": {},
     "output_type": "execute_result"
    }
   ],
   "source": [
    "os.chdir('c:\\\\Users\\\\tyler\\\\OneDrive\\\\Documents\\\\Python\\\\NFL')\n",
    "os.getcwd()"
   ]
  },
  {
   "cell_type": "code",
   "execution_count": 55,
   "metadata": {},
   "outputs": [
    {
     "name": "stdout",
     "output_type": "stream",
     "text": [
      "Executing load_data ...\n",
      "\tDone: 3.6481s\n",
      "Executing preprocess ...\n",
      "\tDone: 1.9792s\n",
      "Executing load_target_data ...\n",
      "\tDone: 0.9180s\n",
      "Executing merge_x_y ...\n",
      "\tDone: 0.0368s\n"
     ]
    }
   ],
   "source": [
    "# Load data\n",
    "df = load_data()\n",
    "\n",
    "last_season = df[[index[0].year >= 2021 for index in df.index]]\n",
    "df = df[[index[0].year < 2021 for index in df.index]]\n",
    "X = df.drop(['y'], axis=1)\n",
    "y = df[['y']]\n",
    "\n",
    "# Split data\n",
    "X_train, X_test, y_train, y_test = train_test_split(X, y, test_size=.2, random_state=1)\n",
    "\n",
    "# Pipeline\n",
    "pipe = Pipeline(\n",
    "    [\n",
    "        ('scaler', StandardScaler()),\n",
    "        ('nn', MLPClassifier(random_state=1, activation='identity'))\n",
    "    ]\n",
    ")\n"
   ]
  },
  {
   "cell_type": "code",
   "execution_count": 56,
   "metadata": {},
   "outputs": [],
   "source": [
    "parameters = {\n",
    "    'nn__hidden_layer_sizes': [\n",
    "        (100, 100, 100), (250, 250, 250), (300, 300, 300),\n",
    "        (100, 100, 100, 100), (250, 250, 250, 250), (300, 300, 300, 300)\n",
    "    ],\n",
    "    'nn__activation': ['identity']\n",
    "}"
   ]
  },
  {
   "cell_type": "code",
   "execution_count": 57,
   "metadata": {},
   "outputs": [],
   "source": [
    "search = GridSearchCV(\n",
    "    pipe,\n",
    "    parameters,\n",
    "    scoring='accuracy',\n",
    "    n_jobs=-1,\n",
    "    cv=KFold(n_splits=5, shuffle=True, random_state=1)\n",
    ").fit(X_train, y_train)"
   ]
  },
  {
   "cell_type": "code",
   "execution_count": 58,
   "metadata": {},
   "outputs": [
    {
     "data": {
      "text/html": [
       "<div>\n",
       "<style scoped>\n",
       "    .dataframe tbody tr th:only-of-type {\n",
       "        vertical-align: middle;\n",
       "    }\n",
       "\n",
       "    .dataframe tbody tr th {\n",
       "        vertical-align: top;\n",
       "    }\n",
       "\n",
       "    .dataframe thead th {\n",
       "        text-align: right;\n",
       "    }\n",
       "</style>\n",
       "<table border=\"1\" class=\"dataframe\">\n",
       "  <thead>\n",
       "    <tr style=\"text-align: right;\">\n",
       "      <th></th>\n",
       "      <th></th>\n",
       "      <th>mean_test_score</th>\n",
       "      <th>mean_test_score</th>\n",
       "      <th>rank_test_score</th>\n",
       "    </tr>\n",
       "    <tr>\n",
       "      <th>param_nn__activation</th>\n",
       "      <th>param_nn__hidden_layer_sizes</th>\n",
       "      <th></th>\n",
       "      <th></th>\n",
       "      <th></th>\n",
       "    </tr>\n",
       "  </thead>\n",
       "  <tbody>\n",
       "    <tr>\n",
       "      <th rowspan=\"5\" valign=\"top\">identity</th>\n",
       "      <th>(250, 250, 250)</th>\n",
       "      <td>0.616489</td>\n",
       "      <td>0.616489</td>\n",
       "      <td>1</td>\n",
       "    </tr>\n",
       "    <tr>\n",
       "      <th>(300, 300, 300)</th>\n",
       "      <td>0.613830</td>\n",
       "      <td>0.613830</td>\n",
       "      <td>2</td>\n",
       "    </tr>\n",
       "    <tr>\n",
       "      <th>(100, 100, 100)</th>\n",
       "      <td>0.611170</td>\n",
       "      <td>0.611170</td>\n",
       "      <td>3</td>\n",
       "    </tr>\n",
       "    <tr>\n",
       "      <th>(150, 150, 150)</th>\n",
       "      <td>0.610106</td>\n",
       "      <td>0.610106</td>\n",
       "      <td>4</td>\n",
       "    </tr>\n",
       "    <tr>\n",
       "      <th>(200, 200, 200)</th>\n",
       "      <td>0.606383</td>\n",
       "      <td>0.606383</td>\n",
       "      <td>5</td>\n",
       "    </tr>\n",
       "    <tr>\n",
       "      <th rowspan=\"5\" valign=\"top\">tanh</th>\n",
       "      <th>(100, 100, 100)</th>\n",
       "      <td>0.603723</td>\n",
       "      <td>0.603723</td>\n",
       "      <td>6</td>\n",
       "    </tr>\n",
       "    <tr>\n",
       "      <th>(250, 250, 250)</th>\n",
       "      <td>0.596277</td>\n",
       "      <td>0.596277</td>\n",
       "      <td>7</td>\n",
       "    </tr>\n",
       "    <tr>\n",
       "      <th>(300, 300, 300)</th>\n",
       "      <td>0.594681</td>\n",
       "      <td>0.594681</td>\n",
       "      <td>8</td>\n",
       "    </tr>\n",
       "    <tr>\n",
       "      <th>(200, 200, 200)</th>\n",
       "      <td>0.586170</td>\n",
       "      <td>0.586170</td>\n",
       "      <td>9</td>\n",
       "    </tr>\n",
       "    <tr>\n",
       "      <th>(150, 150, 150)</th>\n",
       "      <td>0.585638</td>\n",
       "      <td>0.585638</td>\n",
       "      <td>10</td>\n",
       "    </tr>\n",
       "  </tbody>\n",
       "</table>\n",
       "</div>"
      ],
      "text/plain": [
       "                                                   mean_test_score  \\\n",
       "param_nn__activation param_nn__hidden_layer_sizes                    \n",
       "identity             (250, 250, 250)                      0.616489   \n",
       "                     (300, 300, 300)                      0.613830   \n",
       "                     (100, 100, 100)                      0.611170   \n",
       "                     (150, 150, 150)                      0.610106   \n",
       "                     (200, 200, 200)                      0.606383   \n",
       "tanh                 (100, 100, 100)                      0.603723   \n",
       "                     (250, 250, 250)                      0.596277   \n",
       "                     (300, 300, 300)                      0.594681   \n",
       "                     (200, 200, 200)                      0.586170   \n",
       "                     (150, 150, 150)                      0.585638   \n",
       "\n",
       "                                                   mean_test_score  \\\n",
       "param_nn__activation param_nn__hidden_layer_sizes                    \n",
       "identity             (250, 250, 250)                      0.616489   \n",
       "                     (300, 300, 300)                      0.613830   \n",
       "                     (100, 100, 100)                      0.611170   \n",
       "                     (150, 150, 150)                      0.610106   \n",
       "                     (200, 200, 200)                      0.606383   \n",
       "tanh                 (100, 100, 100)                      0.603723   \n",
       "                     (250, 250, 250)                      0.596277   \n",
       "                     (300, 300, 300)                      0.594681   \n",
       "                     (200, 200, 200)                      0.586170   \n",
       "                     (150, 150, 150)                      0.585638   \n",
       "\n",
       "                                                   rank_test_score  \n",
       "param_nn__activation param_nn__hidden_layer_sizes                   \n",
       "identity             (250, 250, 250)                             1  \n",
       "                     (300, 300, 300)                             2  \n",
       "                     (100, 100, 100)                             3  \n",
       "                     (150, 150, 150)                             4  \n",
       "                     (200, 200, 200)                             5  \n",
       "tanh                 (100, 100, 100)                             6  \n",
       "                     (250, 250, 250)                             7  \n",
       "                     (300, 300, 300)                             8  \n",
       "                     (200, 200, 200)                             9  \n",
       "                     (150, 150, 150)                            10  "
      ]
     },
     "execution_count": 58,
     "metadata": {},
     "output_type": "execute_result"
    }
   ],
   "source": [
    "results_df = pd.DataFrame(search.cv_results_)\n",
    "results_df.sort_values(by=['rank_test_score'], inplace=True)\n",
    "results_df.set_index(['param_nn__activation', 'param_nn__hidden_layer_sizes'], inplace=True)\n",
    "results_df[['mean_test_score', 'mean_test_score', 'rank_test_score']]"
   ]
  },
  {
   "cell_type": "code",
   "execution_count": 59,
   "metadata": {},
   "outputs": [
    {
     "data": {
      "text/plain": [
       "Pipeline(steps=[('scaler', StandardScaler()),\n",
       "                ('nn',\n",
       "                 MLPClassifier(activation='identity',\n",
       "                               hidden_layer_sizes=(250, 250, 250),\n",
       "                               random_state=1))])"
      ]
     },
     "execution_count": 59,
     "metadata": {},
     "output_type": "execute_result"
    }
   ],
   "source": [
    "search.best_estimator_"
   ]
  },
  {
   "cell_type": "code",
   "execution_count": 60,
   "metadata": {},
   "outputs": [
    {
     "name": "stdout",
     "output_type": "stream",
     "text": [
      "Mean: 0.601063829787234 Std: 0.026754843276509135\n",
      "0.6148936170212767\n"
     ]
    }
   ],
   "source": [
    "scores = cross_val_score(search.best_estimator_, X_train, y_train)\n",
    "print(f'Mean: {scores.mean()} Std: {scores.std()}')\n",
    "print(search.best_estimator_.score(X_test, y_test))"
   ]
  },
  {
   "cell_type": "code",
   "execution_count": null,
   "metadata": {},
   "outputs": [],
   "source": []
  }
 ],
 "metadata": {
  "kernelspec": {
   "display_name": "Python 3.8.2 64-bit",
   "language": "python",
   "name": "python3"
  },
  "language_info": {
   "codemirror_mode": {
    "name": "ipython",
    "version": 3
   },
   "file_extension": ".py",
   "mimetype": "text/x-python",
   "name": "python",
   "nbconvert_exporter": "python",
   "pygments_lexer": "ipython3",
   "version": "3.8.2"
  },
  "orig_nbformat": 4,
  "vscode": {
   "interpreter": {
    "hash": "9650cb4e16cdd4a8e8e2d128bf38d875813998db22a3c986335f89e0cb4d7bb2"
   }
  }
 },
 "nbformat": 4,
 "nbformat_minor": 2
}
