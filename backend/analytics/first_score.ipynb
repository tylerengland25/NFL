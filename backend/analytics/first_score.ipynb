{
 "cells": [
  {
   "cell_type": "code",
   "execution_count": 64,
   "metadata": {},
   "outputs": [],
   "source": [
    "import pandas as pd\n",
    "import numpy as np\n",
    "import os\n",
    "import itertools"
   ]
  },
  {
   "cell_type": "code",
   "execution_count": 65,
   "metadata": {},
   "outputs": [
    {
     "data": {
      "text/plain": [
       "'c:\\\\Users\\\\tyler\\\\OneDrive\\\\Documents\\\\Python\\\\NFL'"
      ]
     },
     "execution_count": 65,
     "metadata": {},
     "output_type": "execute_result"
    }
   ],
   "source": [
    "os.chdir('c:\\\\Users\\\\tyler\\\\OneDrive\\\\Documents\\\\Python\\\\NFL')\n",
    "os.getcwd()"
   ]
  },
  {
   "cell_type": "code",
   "execution_count": 66,
   "metadata": {},
   "outputs": [
    {
     "data": {
      "text/html": [
       "<div>\n",
       "<style scoped>\n",
       "    .dataframe tbody tr th:only-of-type {\n",
       "        vertical-align: middle;\n",
       "    }\n",
       "\n",
       "    .dataframe tbody tr th {\n",
       "        vertical-align: top;\n",
       "    }\n",
       "\n",
       "    .dataframe thead th {\n",
       "        text-align: right;\n",
       "    }\n",
       "</style>\n",
       "<table border=\"1\" class=\"dataframe\">\n",
       "  <thead>\n",
       "    <tr style=\"text-align: right;\">\n",
       "      <th></th>\n",
       "      <th>date</th>\n",
       "      <th>team</th>\n",
       "      <th>opponent</th>\n",
       "      <th>week</th>\n",
       "      <th>season</th>\n",
       "      <th>first_score_team</th>\n",
       "      <th>first_score_quarter</th>\n",
       "      <th>first_score_time</th>\n",
       "      <th>first_score</th>\n",
       "    </tr>\n",
       "  </thead>\n",
       "  <tbody>\n",
       "    <tr>\n",
       "      <th>2098</th>\n",
       "      <td>2013-10-20</td>\n",
       "      <td>Denver Broncos</td>\n",
       "      <td>Indianapolis Colts</td>\n",
       "      <td>7</td>\n",
       "      <td>2013</td>\n",
       "      <td>Broncos</td>\n",
       "      <td>1</td>\n",
       "      <td>8.27</td>\n",
       "      <td>True</td>\n",
       "    </tr>\n",
       "    <tr>\n",
       "      <th>552</th>\n",
       "      <td>2011-11-20</td>\n",
       "      <td>Arizona Cardinals</td>\n",
       "      <td>San Francisco 49ers</td>\n",
       "      <td>11</td>\n",
       "      <td>2011</td>\n",
       "      <td>49ers</td>\n",
       "      <td>1</td>\n",
       "      <td>3.17</td>\n",
       "      <td>False</td>\n",
       "    </tr>\n",
       "    <tr>\n",
       "      <th>3660</th>\n",
       "      <td>2017-01-14</td>\n",
       "      <td>Seattle Seahawks</td>\n",
       "      <td>Atlanta Falcons</td>\n",
       "      <td>19</td>\n",
       "      <td>2016</td>\n",
       "      <td>Seahawks</td>\n",
       "      <td>1</td>\n",
       "      <td>6.43</td>\n",
       "      <td>True</td>\n",
       "    </tr>\n",
       "    <tr>\n",
       "      <th>90</th>\n",
       "      <td>2010-12-16</td>\n",
       "      <td>San Francisco 49ers</td>\n",
       "      <td>San Diego Chargers</td>\n",
       "      <td>15</td>\n",
       "      <td>2010</td>\n",
       "      <td>Chargers</td>\n",
       "      <td>1</td>\n",
       "      <td>12.88</td>\n",
       "      <td>False</td>\n",
       "    </tr>\n",
       "    <tr>\n",
       "      <th>3688</th>\n",
       "      <td>2016-10-02</td>\n",
       "      <td>Seattle Seahawks</td>\n",
       "      <td>New York Jets</td>\n",
       "      <td>4</td>\n",
       "      <td>2016</td>\n",
       "      <td>Jets</td>\n",
       "      <td>1</td>\n",
       "      <td>6.45</td>\n",
       "      <td>False</td>\n",
       "    </tr>\n",
       "  </tbody>\n",
       "</table>\n",
       "</div>"
      ],
      "text/plain": [
       "           date                 team             opponent  week  season  \\\n",
       "2098 2013-10-20       Denver Broncos   Indianapolis Colts     7    2013   \n",
       "552  2011-11-20    Arizona Cardinals  San Francisco 49ers    11    2011   \n",
       "3660 2017-01-14     Seattle Seahawks      Atlanta Falcons    19    2016   \n",
       "90   2010-12-16  San Francisco 49ers   San Diego Chargers    15    2010   \n",
       "3688 2016-10-02     Seattle Seahawks        New York Jets     4    2016   \n",
       "\n",
       "     first_score_team  first_score_quarter  first_score_time  first_score  \n",
       "2098          Broncos                    1              8.27         True  \n",
       "552             49ers                    1              3.17        False  \n",
       "3660         Seahawks                    1              6.43         True  \n",
       "90           Chargers                    1             12.88        False  \n",
       "3688             Jets                    1              6.45        False  "
      ]
     },
     "execution_count": 66,
     "metadata": {},
     "output_type": "execute_result"
    }
   ],
   "source": [
    "scores = pd.read_csv('backend/data/games/scores.csv')\n",
    "scores['date'] = pd.to_datetime(scores['date'])\n",
    "scores['first_score_time'] = scores['first_score_time'].apply(lambda x: int(x.split(':')[0]) + round(float(x.split(':')[1]) / 60, 2))\n",
    "scores['first_score_time'] = scores['first_score_time'] + np.where(scores['first_score_quarter'] == 1, 0, 15)\n",
    "scores['first_score'] = scores['team'].apply(lambda x: x.split(' ')[-1]) == scores['first_score_team']\n",
    "scores = scores[['date', 'team', 'opponent', 'week', 'season', 'first_score_team', 'first_score_quarter', 'first_score_time', 'first_score']]\n",
    "scores.sample(5)\n"
   ]
  },
  {
   "cell_type": "code",
   "execution_count": 67,
   "metadata": {},
   "outputs": [
    {
     "data": {
      "text/html": [
       "<div>\n",
       "<style scoped>\n",
       "    .dataframe tbody tr th:only-of-type {\n",
       "        vertical-align: middle;\n",
       "    }\n",
       "\n",
       "    .dataframe tbody tr th {\n",
       "        vertical-align: top;\n",
       "    }\n",
       "\n",
       "    .dataframe thead th {\n",
       "        text-align: right;\n",
       "    }\n",
       "</style>\n",
       "<table border=\"1\" class=\"dataframe\">\n",
       "  <thead>\n",
       "    <tr style=\"text-align: right;\">\n",
       "      <th></th>\n",
       "      <th></th>\n",
       "      <th>first_score_time</th>\n",
       "      <th>first_score</th>\n",
       "      <th>week</th>\n",
       "      <th>accuracy</th>\n",
       "    </tr>\n",
       "    <tr>\n",
       "      <th>team</th>\n",
       "      <th>first_score</th>\n",
       "      <th></th>\n",
       "      <th></th>\n",
       "      <th></th>\n",
       "      <th></th>\n",
       "    </tr>\n",
       "  </thead>\n",
       "  <tbody>\n",
       "    <tr>\n",
       "      <th rowspan=\"2\" valign=\"top\">Arizona Cardinals</th>\n",
       "      <th>False</th>\n",
       "      <td>7.988571</td>\n",
       "      <td>7</td>\n",
       "      <td>18</td>\n",
       "      <td>0.39</td>\n",
       "    </tr>\n",
       "    <tr>\n",
       "      <th>True</th>\n",
       "      <td>8.483636</td>\n",
       "      <td>11</td>\n",
       "      <td>18</td>\n",
       "      <td>0.61</td>\n",
       "    </tr>\n",
       "    <tr>\n",
       "      <th rowspan=\"2\" valign=\"top\">Atlanta Falcons</th>\n",
       "      <th>False</th>\n",
       "      <td>8.247778</td>\n",
       "      <td>9</td>\n",
       "      <td>17</td>\n",
       "      <td>0.53</td>\n",
       "    </tr>\n",
       "    <tr>\n",
       "      <th>True</th>\n",
       "      <td>7.821250</td>\n",
       "      <td>8</td>\n",
       "      <td>17</td>\n",
       "      <td>0.47</td>\n",
       "    </tr>\n",
       "    <tr>\n",
       "      <th rowspan=\"2\" valign=\"top\">Baltimore Ravens</th>\n",
       "      <th>False</th>\n",
       "      <td>12.314286</td>\n",
       "      <td>7</td>\n",
       "      <td>17</td>\n",
       "      <td>0.41</td>\n",
       "    </tr>\n",
       "    <tr>\n",
       "      <th>True</th>\n",
       "      <td>9.815000</td>\n",
       "      <td>10</td>\n",
       "      <td>17</td>\n",
       "      <td>0.59</td>\n",
       "    </tr>\n",
       "    <tr>\n",
       "      <th rowspan=\"2\" valign=\"top\">Buffalo Bills</th>\n",
       "      <th>False</th>\n",
       "      <td>8.496667</td>\n",
       "      <td>6</td>\n",
       "      <td>19</td>\n",
       "      <td>0.32</td>\n",
       "    </tr>\n",
       "    <tr>\n",
       "      <th>True</th>\n",
       "      <td>10.191538</td>\n",
       "      <td>13</td>\n",
       "      <td>19</td>\n",
       "      <td>0.68</td>\n",
       "    </tr>\n",
       "    <tr>\n",
       "      <th rowspan=\"2\" valign=\"top\">Carolina Panthers</th>\n",
       "      <th>False</th>\n",
       "      <td>14.244000</td>\n",
       "      <td>5</td>\n",
       "      <td>17</td>\n",
       "      <td>0.29</td>\n",
       "    </tr>\n",
       "    <tr>\n",
       "      <th>True</th>\n",
       "      <td>11.645833</td>\n",
       "      <td>12</td>\n",
       "      <td>17</td>\n",
       "      <td>0.71</td>\n",
       "    </tr>\n",
       "  </tbody>\n",
       "</table>\n",
       "</div>"
      ],
      "text/plain": [
       "                               first_score_time  first_score  week  accuracy\n",
       "team              first_score                                               \n",
       "Arizona Cardinals False                7.988571            7    18      0.39\n",
       "                  True                 8.483636           11    18      0.61\n",
       "Atlanta Falcons   False                8.247778            9    17      0.53\n",
       "                  True                 7.821250            8    17      0.47\n",
       "Baltimore Ravens  False               12.314286            7    17      0.41\n",
       "                  True                 9.815000           10    17      0.59\n",
       "Buffalo Bills     False                8.496667            6    19      0.32\n",
       "                  True                10.191538           13    19      0.68\n",
       "Carolina Panthers False               14.244000            5    17      0.29\n",
       "                  True                11.645833           12    17      0.71"
      ]
     },
     "execution_count": 67,
     "metadata": {},
     "output_type": "execute_result"
    }
   ],
   "source": [
    "df = scores[scores['season'] == 2021].groupby(['team', 'first_score']).agg({'first_score_time': 'mean', 'first_score': 'count'})\n",
    "df = df.join(scores[scores['season'] == 2021].groupby(['team'])['week'].count(), how='inner')\n",
    "df['accuracy'] = round(df['first_score'] / df['week'], 2)\n",
    "df.head(10)"
   ]
  },
  {
   "cell_type": "code",
   "execution_count": 68,
   "metadata": {},
   "outputs": [],
   "source": [
    "teams = ('Buffalo Bills', 'Los Angeles Rams')\n",
    "first_score = (True, False)\n",
    "bills_first = df.loc[(teams[0], first_score[0]), :]['accuracy'] * df.loc[(teams[1], first_score[1]), :]['accuracy']\n",
    "rams_first = df.loc[(teams[0], first_score[1]), :]['accuracy'] * df.loc[(teams[1], first_score[0]), :]['accuracy']"
   ]
  },
  {
   "cell_type": "code",
   "execution_count": 69,
   "metadata": {},
   "outputs": [
    {
     "data": {
      "text/plain": [
       "51.1"
      ]
     },
     "execution_count": 69,
     "metadata": {},
     "output_type": "execute_result"
    }
   ],
   "source": [
    "round(bills_first / (bills_first + rams_first) * 100, 1)"
   ]
  },
  {
   "cell_type": "code",
   "execution_count": 70,
   "metadata": {},
   "outputs": [
    {
     "data": {
      "text/plain": [
       "48.9"
      ]
     },
     "execution_count": 70,
     "metadata": {},
     "output_type": "execute_result"
    }
   ],
   "source": [
    "round(rams_first / (bills_first + rams_first) * 100, 1)"
   ]
  },
  {
   "cell_type": "code",
   "execution_count": null,
   "metadata": {},
   "outputs": [],
   "source": []
  }
 ],
 "metadata": {
  "kernelspec": {
   "display_name": "Python 3.8.2 64-bit",
   "language": "python",
   "name": "python3"
  },
  "language_info": {
   "codemirror_mode": {
    "name": "ipython",
    "version": 3
   },
   "file_extension": ".py",
   "mimetype": "text/x-python",
   "name": "python",
   "nbconvert_exporter": "python",
   "pygments_lexer": "ipython3",
   "version": "3.8.2"
  },
  "orig_nbformat": 4,
  "vscode": {
   "interpreter": {
    "hash": "9650cb4e16cdd4a8e8e2d128bf38d875813998db22a3c986335f89e0cb4d7bb2"
   }
  }
 },
 "nbformat": 4,
 "nbformat_minor": 2
}
