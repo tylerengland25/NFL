{
 "cells": [
  {
   "cell_type": "markdown",
   "metadata": {},
   "source": [
    "# EDA - Kickoff yards"
   ]
  },
  {
   "cell_type": "markdown",
   "metadata": {},
   "source": [
    "## 1.0 Import Data"
   ]
  },
  {
   "cell_type": "code",
   "execution_count": 18,
   "metadata": {},
   "outputs": [],
   "source": [
    "import nfl_data_py as nfl\n",
    "import pandas as pd"
   ]
  },
  {
   "cell_type": "markdown",
   "metadata": {},
   "source": [
    "## 2.0 Play Data"
   ]
  },
  {
   "cell_type": "markdown",
   "metadata": {},
   "source": [
    "### 2.1 Load Data"
   ]
  },
  {
   "cell_type": "code",
   "execution_count": 19,
   "metadata": {},
   "outputs": [
    {
     "name": "stdout",
     "output_type": "stream",
     "text": [
      "2020 done.\n",
      "2021 done.\n",
      "2022 done.\n",
      "Downcasting floats.\n"
     ]
    }
   ],
   "source": [
    "years = [2020, 2021, 2022]\n",
    "pbp = nfl.import_pbp_data(years, downcast=True, cache=False, alt_path=None)"
   ]
  },
  {
   "cell_type": "markdown",
   "metadata": {},
   "source": [
    "### 2.2 Data size"
   ]
  },
  {
   "cell_type": "code",
   "execution_count": 20,
   "metadata": {},
   "outputs": [
    {
     "name": "stdout",
     "output_type": "stream",
     "text": [
      "Shape: (149373, 384)\n"
     ]
    }
   ],
   "source": [
    "print(f\"Shape: {pbp.shape}\")"
   ]
  },
  {
   "cell_type": "markdown",
   "metadata": {},
   "source": [
    "### 2.3 Columns"
   ]
  },
  {
   "cell_type": "code",
   "execution_count": 21,
   "metadata": {},
   "outputs": [
    {
     "name": "stdout",
     "output_type": "stream",
     "text": [
      "<class 'pandas.core.frame.DataFrame'>\n",
      "RangeIndex: 149373 entries, 0 to 149372\n",
      "Columns: 384 entries, play_id to n_defense\n",
      "dtypes: float64(204), int32(6), int64(1), object(173)\n",
      "memory usage: 434.2+ MB\n"
     ]
    }
   ],
   "source": [
    "pbp.info()"
   ]
  },
  {
   "cell_type": "code",
   "execution_count": 22,
   "metadata": {},
   "outputs": [
    {
     "name": "stdout",
     "output_type": "stream",
     "text": [
      "play_id\n",
      "game_id\n",
      "old_game_id\n",
      "home_team\n",
      "away_team\n",
      "season_type\n",
      "week\n",
      "posteam\n",
      "posteam_type\n",
      "defteam\n",
      "side_of_field\n",
      "yardline_100\n",
      "game_date\n",
      "quarter_seconds_remaining\n",
      "half_seconds_remaining\n",
      "game_seconds_remaining\n",
      "game_half\n",
      "quarter_end\n",
      "drive\n",
      "sp\n",
      "qtr\n",
      "down\n",
      "goal_to_go\n",
      "time\n",
      "yrdln\n",
      "ydstogo\n",
      "ydsnet\n",
      "desc\n",
      "play_type\n",
      "yards_gained\n",
      "shotgun\n",
      "no_huddle\n",
      "qb_dropback\n",
      "qb_kneel\n",
      "qb_spike\n",
      "qb_scramble\n",
      "pass_length\n",
      "pass_location\n",
      "air_yards\n",
      "yards_after_catch\n",
      "run_location\n",
      "run_gap\n",
      "field_goal_result\n",
      "kick_distance\n",
      "extra_point_result\n",
      "two_point_conv_result\n",
      "home_timeouts_remaining\n",
      "away_timeouts_remaining\n",
      "timeout\n",
      "timeout_team\n",
      "td_team\n",
      "td_player_name\n",
      "td_player_id\n",
      "posteam_timeouts_remaining\n",
      "defteam_timeouts_remaining\n",
      "total_home_score\n",
      "total_away_score\n",
      "posteam_score\n",
      "defteam_score\n",
      "score_differential\n",
      "posteam_score_post\n",
      "defteam_score_post\n",
      "score_differential_post\n",
      "no_score_prob\n",
      "opp_fg_prob\n",
      "opp_safety_prob\n",
      "opp_td_prob\n",
      "fg_prob\n",
      "safety_prob\n",
      "td_prob\n",
      "extra_point_prob\n",
      "two_point_conversion_prob\n",
      "ep\n",
      "epa\n",
      "total_home_epa\n",
      "total_away_epa\n",
      "total_home_rush_epa\n",
      "total_away_rush_epa\n",
      "total_home_pass_epa\n",
      "total_away_pass_epa\n",
      "air_epa\n",
      "yac_epa\n",
      "comp_air_epa\n",
      "comp_yac_epa\n",
      "total_home_comp_air_epa\n",
      "total_away_comp_air_epa\n",
      "total_home_comp_yac_epa\n",
      "total_away_comp_yac_epa\n",
      "total_home_raw_air_epa\n",
      "total_away_raw_air_epa\n",
      "total_home_raw_yac_epa\n",
      "total_away_raw_yac_epa\n",
      "wp\n",
      "def_wp\n",
      "home_wp\n",
      "away_wp\n",
      "wpa\n",
      "vegas_wpa\n",
      "vegas_home_wpa\n",
      "home_wp_post\n",
      "away_wp_post\n",
      "vegas_wp\n",
      "vegas_home_wp\n",
      "total_home_rush_wpa\n",
      "total_away_rush_wpa\n",
      "total_home_pass_wpa\n",
      "total_away_pass_wpa\n",
      "air_wpa\n",
      "yac_wpa\n",
      "comp_air_wpa\n",
      "comp_yac_wpa\n",
      "total_home_comp_air_wpa\n",
      "total_away_comp_air_wpa\n",
      "total_home_comp_yac_wpa\n",
      "total_away_comp_yac_wpa\n",
      "total_home_raw_air_wpa\n",
      "total_away_raw_air_wpa\n",
      "total_home_raw_yac_wpa\n",
      "total_away_raw_yac_wpa\n",
      "punt_blocked\n",
      "first_down_rush\n",
      "first_down_pass\n",
      "first_down_penalty\n",
      "third_down_converted\n",
      "third_down_failed\n",
      "fourth_down_converted\n",
      "fourth_down_failed\n",
      "incomplete_pass\n",
      "touchback\n",
      "interception\n",
      "punt_inside_twenty\n",
      "punt_in_endzone\n",
      "punt_out_of_bounds\n",
      "punt_downed\n",
      "punt_fair_catch\n",
      "kickoff_inside_twenty\n",
      "kickoff_in_endzone\n",
      "kickoff_out_of_bounds\n",
      "kickoff_downed\n",
      "kickoff_fair_catch\n",
      "fumble_forced\n",
      "fumble_not_forced\n",
      "fumble_out_of_bounds\n",
      "solo_tackle\n",
      "safety\n",
      "penalty\n",
      "tackled_for_loss\n",
      "fumble_lost\n",
      "own_kickoff_recovery\n",
      "own_kickoff_recovery_td\n",
      "qb_hit\n",
      "rush_attempt\n",
      "pass_attempt\n",
      "sack\n",
      "touchdown\n",
      "pass_touchdown\n",
      "rush_touchdown\n",
      "return_touchdown\n",
      "extra_point_attempt\n",
      "two_point_attempt\n",
      "field_goal_attempt\n",
      "kickoff_attempt\n",
      "punt_attempt\n",
      "fumble\n",
      "complete_pass\n",
      "assist_tackle\n",
      "lateral_reception\n",
      "lateral_rush\n",
      "lateral_return\n",
      "lateral_recovery\n",
      "passer_player_id\n",
      "passer_player_name\n",
      "passing_yards\n",
      "receiver_player_id\n",
      "receiver_player_name\n",
      "receiving_yards\n",
      "rusher_player_id\n",
      "rusher_player_name\n",
      "rushing_yards\n",
      "lateral_receiver_player_id\n",
      "lateral_receiver_player_name\n",
      "lateral_receiving_yards\n",
      "lateral_rusher_player_id\n",
      "lateral_rusher_player_name\n",
      "lateral_rushing_yards\n",
      "lateral_sack_player_id\n",
      "lateral_sack_player_name\n",
      "interception_player_id\n",
      "interception_player_name\n",
      "lateral_interception_player_id\n",
      "lateral_interception_player_name\n",
      "punt_returner_player_id\n",
      "punt_returner_player_name\n",
      "lateral_punt_returner_player_id\n",
      "lateral_punt_returner_player_name\n",
      "kickoff_returner_player_name\n",
      "kickoff_returner_player_id\n",
      "lateral_kickoff_returner_player_id\n",
      "lateral_kickoff_returner_player_name\n",
      "punter_player_id\n",
      "punter_player_name\n",
      "kicker_player_name\n",
      "kicker_player_id\n",
      "own_kickoff_recovery_player_id\n",
      "own_kickoff_recovery_player_name\n",
      "blocked_player_id\n",
      "blocked_player_name\n",
      "tackle_for_loss_1_player_id\n",
      "tackle_for_loss_1_player_name\n",
      "tackle_for_loss_2_player_id\n",
      "tackle_for_loss_2_player_name\n",
      "qb_hit_1_player_id\n",
      "qb_hit_1_player_name\n",
      "qb_hit_2_player_id\n",
      "qb_hit_2_player_name\n",
      "forced_fumble_player_1_team\n",
      "forced_fumble_player_1_player_id\n",
      "forced_fumble_player_1_player_name\n",
      "forced_fumble_player_2_team\n",
      "forced_fumble_player_2_player_id\n",
      "forced_fumble_player_2_player_name\n",
      "solo_tackle_1_team\n",
      "solo_tackle_2_team\n",
      "solo_tackle_1_player_id\n",
      "solo_tackle_2_player_id\n",
      "solo_tackle_1_player_name\n",
      "solo_tackle_2_player_name\n",
      "assist_tackle_1_player_id\n",
      "assist_tackle_1_player_name\n",
      "assist_tackle_1_team\n",
      "assist_tackle_2_player_id\n",
      "assist_tackle_2_player_name\n",
      "assist_tackle_2_team\n",
      "assist_tackle_3_player_id\n",
      "assist_tackle_3_player_name\n",
      "assist_tackle_3_team\n",
      "assist_tackle_4_player_id\n",
      "assist_tackle_4_player_name\n",
      "assist_tackle_4_team\n",
      "tackle_with_assist\n",
      "tackle_with_assist_1_player_id\n",
      "tackle_with_assist_1_player_name\n",
      "tackle_with_assist_1_team\n",
      "tackle_with_assist_2_player_id\n",
      "tackle_with_assist_2_player_name\n",
      "tackle_with_assist_2_team\n",
      "pass_defense_1_player_id\n",
      "pass_defense_1_player_name\n",
      "pass_defense_2_player_id\n",
      "pass_defense_2_player_name\n",
      "fumbled_1_team\n",
      "fumbled_1_player_id\n",
      "fumbled_1_player_name\n",
      "fumbled_2_player_id\n",
      "fumbled_2_player_name\n",
      "fumbled_2_team\n",
      "fumble_recovery_1_team\n",
      "fumble_recovery_1_yards\n",
      "fumble_recovery_1_player_id\n",
      "fumble_recovery_1_player_name\n",
      "fumble_recovery_2_team\n",
      "fumble_recovery_2_yards\n",
      "fumble_recovery_2_player_id\n",
      "fumble_recovery_2_player_name\n",
      "sack_player_id\n",
      "sack_player_name\n",
      "half_sack_1_player_id\n",
      "half_sack_1_player_name\n",
      "half_sack_2_player_id\n",
      "half_sack_2_player_name\n",
      "return_team\n",
      "return_yards\n",
      "penalty_team\n",
      "penalty_player_id\n",
      "penalty_player_name\n",
      "penalty_yards\n",
      "replay_or_challenge\n",
      "replay_or_challenge_result\n",
      "penalty_type\n",
      "defensive_two_point_attempt\n",
      "defensive_two_point_conv\n",
      "defensive_extra_point_attempt\n",
      "defensive_extra_point_conv\n",
      "safety_player_name\n",
      "safety_player_id\n",
      "season\n",
      "cp\n",
      "cpoe\n",
      "series\n",
      "series_success\n",
      "series_result\n",
      "order_sequence\n",
      "start_time\n",
      "time_of_day\n",
      "stadium\n",
      "weather\n",
      "nfl_api_id\n",
      "play_clock\n",
      "play_deleted\n",
      "play_type_nfl\n",
      "special_teams_play\n",
      "st_play_type\n",
      "end_clock_time\n",
      "end_yard_line\n",
      "fixed_drive\n",
      "fixed_drive_result\n",
      "drive_real_start_time\n",
      "drive_play_count\n",
      "drive_time_of_possession\n",
      "drive_first_downs\n",
      "drive_inside20\n",
      "drive_ended_with_score\n",
      "drive_quarter_start\n",
      "drive_quarter_end\n",
      "drive_yards_penalized\n",
      "drive_start_transition\n",
      "drive_end_transition\n",
      "drive_game_clock_start\n",
      "drive_game_clock_end\n",
      "drive_start_yard_line\n",
      "drive_end_yard_line\n",
      "drive_play_id_started\n",
      "drive_play_id_ended\n",
      "away_score\n",
      "home_score\n",
      "location\n",
      "result\n",
      "total\n",
      "spread_line\n",
      "total_line\n",
      "div_game\n",
      "roof\n",
      "surface\n",
      "temp\n",
      "wind\n",
      "home_coach\n",
      "away_coach\n",
      "stadium_id\n",
      "game_stadium\n",
      "aborted_play\n",
      "success\n",
      "passer\n",
      "passer_jersey_number\n",
      "rusher\n",
      "rusher_jersey_number\n",
      "receiver\n",
      "receiver_jersey_number\n",
      "pass\n",
      "rush\n",
      "first_down\n",
      "special\n",
      "play\n",
      "passer_id\n",
      "rusher_id\n",
      "receiver_id\n",
      "name\n",
      "jersey_number\n",
      "id\n",
      "fantasy_player_name\n",
      "fantasy_player_id\n",
      "fantasy\n",
      "fantasy_id\n",
      "out_of_bounds\n",
      "home_opening_kickoff\n",
      "qb_epa\n",
      "xyac_epa\n",
      "xyac_mean_yardage\n",
      "xyac_median_yardage\n",
      "xyac_success\n",
      "xyac_fd\n",
      "xpass\n",
      "pass_oe\n"
     ]
    }
   ],
   "source": [
    "for col in nfl.see_pbp_cols():\n",
    "    print(col)"
   ]
  },
  {
   "cell_type": "markdown",
   "metadata": {},
   "source": [
    "### 2.4 Columns of Importance\n",
    "In relation to points scored by a team"
   ]
  },
  {
   "cell_type": "code",
   "execution_count": 33,
   "metadata": {},
   "outputs": [],
   "source": [
    "import numpy as np\n",
    "game_info_cols = [\n",
    "    'play_id', 'game_id', 'game_date', 'home_team', 'away_team', 'season_type', 'week', 'season',\n",
    "    'posteam', 'defteam',\n",
    "]\n",
    "\n",
    "game_state_cols = [\n",
    "    'game_seconds_remaining', 'qtr', 'score_differential'\n",
    "]\n",
    "\n",
    "kick_cols = [\n",
    "    'play_type', 'kickoff_attempt', \n",
    "    'kickoff_inside_twenty', 'kickoff_out_of_bounds', 'kickoff_in_endzone', 'kickoff_downed', 'kickoff_fair_catch',\n",
    "    'touchback', 'return_yards'\n",
    "]\n",
    "\n",
    "target = 'kick_distance'\n",
    "\n",
    "cols = game_info_cols + game_state_cols + kick_cols + [target]"
   ]
  },
  {
   "cell_type": "markdown",
   "metadata": {},
   "source": [
    "## 3.0 Split Data"
   ]
  },
  {
   "cell_type": "code",
   "execution_count": 60,
   "metadata": {},
   "outputs": [
    {
     "name": "stdout",
     "output_type": "stream",
     "text": [
      "Train size: 5796\n",
      "Test size: 2838\n"
     ]
    }
   ],
   "source": [
    "# Fill kick distance with 75 if touchback is true\n",
    "pbp['kick_distance'] = np.where((pbp['kickoff_attempt'] == 1) & (pbp['touchback'] == 1), 75, pbp['kick_distance'])\n",
    "# Fill kick distance with the differnece of the next plays yardline_100 - current plays return_yards if kick_distance is null\n",
    "pbp['kick_distance'] = np.where((pbp['kickoff_attempt'] == 1) & (pbp['kick_distance'].isnull()), pbp['yardline_100'].shift(-1) - pbp['return_yards'], pbp['kick_distance'])\n",
    "\n",
    "# Split data by year\n",
    "train_df = pbp.loc[pbp['season'] < 2022, :].copy()\n",
    "test_df = pbp.loc[pbp['season'] >= 2022, :].copy()\n",
    "\n",
    "# Drop nulls\n",
    "train_df = train_df.dropna(subset=[target])\n",
    "test_df = test_df.dropna(subset=[target])\n",
    "\n",
    "# Bin target column\n",
    "bins = [-101, 30, 35, 40, 45, 50, 55, 60, 65, 100]\n",
    "train_df.loc[:, f\"{target}_bin\"] = pd.cut(\n",
    "    train_df.loc[:, target], \n",
    "    bins=bins, \n",
    "    labels=False\n",
    ")\n",
    "test_df.loc[:, f\"{target}_bin\"] = pd.cut(\n",
    "    test_df.loc[:, target], \n",
    "    bins=bins,\n",
    "    labels=False\n",
    ")\n",
    "\n",
    "# Split data\n",
    "cols = game_info_cols + game_state_cols + kick_cols\n",
    "X_train = train_df.loc[train_df['kickoff_attempt'] == 1, cols]\n",
    "X_test = test_df.loc[test_df['kickoff_attempt'] == 1, cols]\n",
    "y_train = train_df.loc[train_df['kickoff_attempt'] == 1, f\"{target}_bin\"]\n",
    "y_test = test_df.loc[test_df['kickoff_attempt'] == 1, f\"{target}_bin\"]\n",
    "\n",
    "# Convert game_date to datetime\n",
    "X_train['game_date'] = pd.to_datetime(X_train['game_date'])\n",
    "X_test['game_date'] = pd.to_datetime(X_test['game_date'])\n",
    "\n",
    "print(f\"Train size: {len(X_train)}\")\n",
    "print(f\"Test size: {len(X_test)}\")"
   ]
  },
  {
   "cell_type": "markdown",
   "metadata": {},
   "source": [
    "## 4.0 Baseline Model"
   ]
  },
  {
   "cell_type": "code",
   "execution_count": 61,
   "metadata": {},
   "outputs": [
    {
     "name": "stdout",
     "output_type": "stream",
     "text": [
      "              precision    recall  f1-score   support\n",
      "\n",
      "           0       0.04      0.09      0.05       132\n",
      "           1       0.00      0.00      0.00        20\n",
      "           2       0.00      0.04      0.01        25\n",
      "           3       0.01      0.04      0.01        49\n",
      "           4       0.03      0.13      0.05        76\n",
      "           5       0.04      0.12      0.06       109\n",
      "           6       0.07      0.08      0.07       240\n",
      "           7       0.12      0.10      0.11       413\n",
      "           8       0.61      0.11      0.18      1774\n",
      "\n",
      "    accuracy                           0.10      2838\n",
      "   macro avg       0.10      0.08      0.06      2838\n",
      "weighted avg       0.41      0.10      0.14      2838\n",
      "\n"
     ]
    }
   ],
   "source": [
    "import random\n",
    "from sklearn.metrics import classification_report\n",
    "\n",
    "predictions = random.choices(y_test.unique(), k=len(y_test))\n",
    "\n",
    "print(classification_report(y_test, predictions))"
   ]
  },
  {
   "cell_type": "markdown",
   "metadata": {},
   "source": [
    "## 5.0 Decision Tree"
   ]
  },
  {
   "cell_type": "code",
   "execution_count": 62,
   "metadata": {},
   "outputs": [
    {
     "name": "stdout",
     "output_type": "stream",
     "text": [
      "Fitting 5 folds for each of 50 candidates, totalling 250 fits\n"
     ]
    },
    {
     "name": "stdout",
     "output_type": "stream",
     "text": [
      "Best score: 0.5068184706283152\n",
      "Best params: {'random_state': 42, 'min_samples_leaf': 10, 'max_leaf_nodes': 125, 'max_depth': 13}\n",
      "              precision    recall  f1-score   support\n",
      "\n",
      "           0       0.84      0.36      0.51       132\n",
      "           1       0.00      0.00      0.00        20\n",
      "           2       0.00      0.00      0.00        25\n",
      "           3       0.00      0.00      0.00        49\n",
      "           4       0.00      0.00      0.00        76\n",
      "           5       0.00      0.00      0.00       109\n",
      "           6       0.10      0.00      0.01       240\n",
      "           7       0.12      0.03      0.04       413\n",
      "           8       0.64      0.96      0.77      1774\n",
      "\n",
      "    accuracy                           0.62      2838\n",
      "   macro avg       0.19      0.15      0.15      2838\n",
      "weighted avg       0.46      0.62      0.51      2838\n",
      "\n"
     ]
    },
    {
     "name": "stderr",
     "output_type": "stream",
     "text": [
      "/home/tylerengland/NFL/venv/lib/python3.10/site-packages/sklearn/metrics/_classification.py:1469: UndefinedMetricWarning: Precision and F-score are ill-defined and being set to 0.0 in labels with no predicted samples. Use `zero_division` parameter to control this behavior.\n",
      "  _warn_prf(average, modifier, msg_start, len(result))\n",
      "/home/tylerengland/NFL/venv/lib/python3.10/site-packages/sklearn/metrics/_classification.py:1469: UndefinedMetricWarning: Precision and F-score are ill-defined and being set to 0.0 in labels with no predicted samples. Use `zero_division` parameter to control this behavior.\n",
      "  _warn_prf(average, modifier, msg_start, len(result))\n",
      "/home/tylerengland/NFL/venv/lib/python3.10/site-packages/sklearn/metrics/_classification.py:1469: UndefinedMetricWarning: Precision and F-score are ill-defined and being set to 0.0 in labels with no predicted samples. Use `zero_division` parameter to control this behavior.\n",
      "  _warn_prf(average, modifier, msg_start, len(result))\n"
     ]
    }
   ],
   "source": [
    "from sklearn.tree import DecisionTreeClassifier\n",
    "from sklearn.model_selection import RandomizedSearchCV\n",
    "from sklearn.metrics import classification_report\n",
    "\n",
    "# Hypertune parameters\n",
    "params = {\n",
    "    'max_depth': [7, 9, 11, 13, 15, 17, 19, 21, 23, 25],\n",
    "    'min_samples_leaf': [10, 25, 50, 75, 100, 125, 150, 175, 200, 225, 250, 275],\n",
    "    'max_leaf_nodes': [50, 75, 100, 125, 150],\n",
    "    'random_state': [42]\n",
    "}\n",
    "\n",
    "# Randomized search w/ cross validation\n",
    "dt = DecisionTreeClassifier()\n",
    "dt_cv = RandomizedSearchCV(\n",
    "    dt, \n",
    "    params, \n",
    "    cv=5, \n",
    "    n_jobs=-1, \n",
    "    n_iter=50,\n",
    "    verbose=1, \n",
    "    scoring=['f1_weighted'],\n",
    "    refit='f1_weighted'\n",
    ")\n",
    "\n",
    "# Fit model\n",
    "dt_cv.fit(X_train.loc[:, game_state_cols], y_train)\n",
    "print(f\"Best score: {dt_cv.best_score_}\")\n",
    "print(f\"Best params: {dt_cv.best_params_}\")\n",
    "\n",
    "# Evaluate model\n",
    "dt_cv.best_estimator_.fit(X_train.loc[:, game_state_cols], y_train)\n",
    "y_pred = dt_cv.best_estimator_.predict(X_test.loc[:, game_state_cols])\n",
    "print(classification_report(y_test, y_pred))"
   ]
  },
  {
   "cell_type": "markdown",
   "metadata": {},
   "source": [
    "## 6.0 Save Model"
   ]
  },
  {
   "cell_type": "code",
   "execution_count": 63,
   "metadata": {},
   "outputs": [],
   "source": [
    "import pickle\n",
    "with open('/home/tylerengland/NFL/backend/models/kickoff_distance/kickoff_distance__00001.pkl', 'wb') as file:\n",
    "    pickle.dump(dt_cv.best_estimator_, file)"
   ]
  },
  {
   "cell_type": "code",
   "execution_count": 64,
   "metadata": {},
   "outputs": [
    {
     "data": {
      "text/html": [
       "<style>#sk-container-id-1 {color: black;}#sk-container-id-1 pre{padding: 0;}#sk-container-id-1 div.sk-toggleable {background-color: white;}#sk-container-id-1 label.sk-toggleable__label {cursor: pointer;display: block;width: 100%;margin-bottom: 0;padding: 0.3em;box-sizing: border-box;text-align: center;}#sk-container-id-1 label.sk-toggleable__label-arrow:before {content: \"▸\";float: left;margin-right: 0.25em;color: #696969;}#sk-container-id-1 label.sk-toggleable__label-arrow:hover:before {color: black;}#sk-container-id-1 div.sk-estimator:hover label.sk-toggleable__label-arrow:before {color: black;}#sk-container-id-1 div.sk-toggleable__content {max-height: 0;max-width: 0;overflow: hidden;text-align: left;background-color: #f0f8ff;}#sk-container-id-1 div.sk-toggleable__content pre {margin: 0.2em;color: black;border-radius: 0.25em;background-color: #f0f8ff;}#sk-container-id-1 input.sk-toggleable__control:checked~div.sk-toggleable__content {max-height: 200px;max-width: 100%;overflow: auto;}#sk-container-id-1 input.sk-toggleable__control:checked~label.sk-toggleable__label-arrow:before {content: \"▾\";}#sk-container-id-1 div.sk-estimator input.sk-toggleable__control:checked~label.sk-toggleable__label {background-color: #d4ebff;}#sk-container-id-1 div.sk-label input.sk-toggleable__control:checked~label.sk-toggleable__label {background-color: #d4ebff;}#sk-container-id-1 input.sk-hidden--visually {border: 0;clip: rect(1px 1px 1px 1px);clip: rect(1px, 1px, 1px, 1px);height: 1px;margin: -1px;overflow: hidden;padding: 0;position: absolute;width: 1px;}#sk-container-id-1 div.sk-estimator {font-family: monospace;background-color: #f0f8ff;border: 1px dotted black;border-radius: 0.25em;box-sizing: border-box;margin-bottom: 0.5em;}#sk-container-id-1 div.sk-estimator:hover {background-color: #d4ebff;}#sk-container-id-1 div.sk-parallel-item::after {content: \"\";width: 100%;border-bottom: 1px solid gray;flex-grow: 1;}#sk-container-id-1 div.sk-label:hover label.sk-toggleable__label {background-color: #d4ebff;}#sk-container-id-1 div.sk-serial::before {content: \"\";position: absolute;border-left: 1px solid gray;box-sizing: border-box;top: 0;bottom: 0;left: 50%;z-index: 0;}#sk-container-id-1 div.sk-serial {display: flex;flex-direction: column;align-items: center;background-color: white;padding-right: 0.2em;padding-left: 0.2em;position: relative;}#sk-container-id-1 div.sk-item {position: relative;z-index: 1;}#sk-container-id-1 div.sk-parallel {display: flex;align-items: stretch;justify-content: center;background-color: white;position: relative;}#sk-container-id-1 div.sk-item::before, #sk-container-id-1 div.sk-parallel-item::before {content: \"\";position: absolute;border-left: 1px solid gray;box-sizing: border-box;top: 0;bottom: 0;left: 50%;z-index: -1;}#sk-container-id-1 div.sk-parallel-item {display: flex;flex-direction: column;z-index: 1;position: relative;background-color: white;}#sk-container-id-1 div.sk-parallel-item:first-child::after {align-self: flex-end;width: 50%;}#sk-container-id-1 div.sk-parallel-item:last-child::after {align-self: flex-start;width: 50%;}#sk-container-id-1 div.sk-parallel-item:only-child::after {width: 0;}#sk-container-id-1 div.sk-dashed-wrapped {border: 1px dashed gray;margin: 0 0.4em 0.5em 0.4em;box-sizing: border-box;padding-bottom: 0.4em;background-color: white;}#sk-container-id-1 div.sk-label label {font-family: monospace;font-weight: bold;display: inline-block;line-height: 1.2em;}#sk-container-id-1 div.sk-label-container {text-align: center;}#sk-container-id-1 div.sk-container {/* jupyter's `normalize.less` sets `[hidden] { display: none; }` but bootstrap.min.css set `[hidden] { display: none !important; }` so we also need the `!important` here to be able to override the default hidden behavior on the sphinx rendered scikit-learn.org. See: https://github.com/scikit-learn/scikit-learn/issues/21755 */display: inline-block !important;position: relative;}#sk-container-id-1 div.sk-text-repr-fallback {display: none;}</style><div id=\"sk-container-id-1\" class=\"sk-top-container\"><div class=\"sk-text-repr-fallback\"><pre>DecisionTreeClassifier(max_depth=13, max_leaf_nodes=125, min_samples_leaf=10,\n",
       "                       random_state=42)</pre><b>In a Jupyter environment, please rerun this cell to show the HTML representation or trust the notebook. <br />On GitHub, the HTML representation is unable to render, please try loading this page with nbviewer.org.</b></div><div class=\"sk-container\" hidden><div class=\"sk-item\"><div class=\"sk-estimator sk-toggleable\"><input class=\"sk-toggleable__control sk-hidden--visually\" id=\"sk-estimator-id-1\" type=\"checkbox\" checked><label for=\"sk-estimator-id-1\" class=\"sk-toggleable__label sk-toggleable__label-arrow\">DecisionTreeClassifier</label><div class=\"sk-toggleable__content\"><pre>DecisionTreeClassifier(max_depth=13, max_leaf_nodes=125, min_samples_leaf=10,\n",
       "                       random_state=42)</pre></div></div></div></div></div>"
      ],
      "text/plain": [
       "DecisionTreeClassifier(max_depth=13, max_leaf_nodes=125, min_samples_leaf=10,\n",
       "                       random_state=42)"
      ]
     },
     "execution_count": 64,
     "metadata": {},
     "output_type": "execute_result"
    }
   ],
   "source": [
    "import pickle\n",
    "# Load model\n",
    "with open('/home/tylerengland/NFL/backend/models/kickoff_distance/kickoff_distance__00001.pkl', 'rb') as f:\n",
    "    model = pickle.load(f)\n",
    "    \n",
    "model"
   ]
  },
  {
   "cell_type": "markdown",
   "metadata": {},
   "source": []
  }
 ],
 "metadata": {
  "kernelspec": {
   "display_name": "venv",
   "language": "python",
   "name": "python3"
  },
  "language_info": {
   "codemirror_mode": {
    "name": "ipython",
    "version": 3
   },
   "file_extension": ".py",
   "mimetype": "text/x-python",
   "name": "python",
   "nbconvert_exporter": "python",
   "pygments_lexer": "ipython3",
   "version": "3.10.9"
  },
  "orig_nbformat": 4
 },
 "nbformat": 4,
 "nbformat_minor": 2
}
